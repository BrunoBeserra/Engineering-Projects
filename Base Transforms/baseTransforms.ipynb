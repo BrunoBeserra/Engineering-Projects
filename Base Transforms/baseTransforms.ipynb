{
 "cells": [
  {
   "cell_type": "markdown",
   "metadata": {},
   "source": [
    "<h1> Hello World! </h1>\n",
    "\n",
    "In this Notebook I'll develop some codes regarding base transforms, since I'm reviewing these subjects in class. \n",
    "The examples presented on this notebook will be the following:\n",
    "\n",
    "<h3> Base Transforms </h3>\n",
    "\n",
    "- Decimal to Binary \n",
    "\n",
    "- Binary to Decimal \n",
    "\n",
    "- Decimal to Octal \n",
    "\n",
    "- Decimal to Hexadecimal\n",
    "\n",
    "- Octal to Binary \n",
    "\n",
    "- Binary to Hexadecimal \n",
    "\n",
    "- Octal to Hexadecimal \n",
    "\n",
    "- Hexadecimal to Binary\n",
    "\n",
    "- Binary to Octal\n",
    "\n",
    "- Octal to Decimal\n",
    "\n",
    "- Hexadecimal to Decimal\n",
    "\n",
    "- Hexadecimal to Octal"
   ]
  },
  {
   "cell_type": "markdown",
   "metadata": {},
   "source": [
    "<h2> Base Transforms"
   ]
  },
  {
   "cell_type": "markdown",
   "metadata": {},
   "source": [
    "<h3> Decimal to Binary </h3>"
   ]
  },
  {
   "cell_type": "code",
   "execution_count": 50,
   "metadata": {},
   "outputs": [
    {
     "name": "stdout",
     "output_type": "stream",
     "text": [
      "1011001011\n",
      "0b1011001011\n"
     ]
    }
   ],
   "source": [
    "def decimal2Binary(number):\n",
    "    dividend = number\n",
    "    binaries = []\n",
    "    binary = \"\"\n",
    "    while (dividend > 0):\n",
    "        quotient = int(dividend / 2)\n",
    "        remainder = int(dividend % 2)\n",
    "        dividend = quotient\n",
    "        binaries.append(remainder)\n",
    "\n",
    "    for numbers in binaries[::-1]:\n",
    "        binary = binary+str(numbers)\n",
    "\n",
    "    return binary\n",
    "\n",
    "print (decimal2Binary(715))\n",
    "print (bin(715))"
   ]
  },
  {
   "cell_type": "markdown",
   "metadata": {},
   "source": [
    "<h3>Binary to Decimal</h3>"
   ]
  },
  {
   "cell_type": "code",
   "execution_count": 93,
   "metadata": {},
   "outputs": [
    {
     "name": "stdout",
     "output_type": "stream",
     "text": [
      "715\n"
     ]
    }
   ],
   "source": [
    "def binary2Decimal(number):\n",
    "    number = str(number)[::-1]\n",
    "\n",
    "    total = 0\n",
    "    i = 0\n",
    "    for n in number:\n",
    "        aux = int(n) * 2 ** i\n",
    "        total += aux\n",
    "        i += 1\n",
    "    return total\n",
    "\n",
    "\n",
    "print(binary2Decimal(1011001011))"
   ]
  },
  {
   "cell_type": "markdown",
   "metadata": {},
   "source": [
    "<h3> Decimal to Octal </h3>"
   ]
  },
  {
   "cell_type": "code",
   "execution_count": 36,
   "metadata": {},
   "outputs": [
    {
     "name": "stdout",
     "output_type": "stream",
     "text": [
      "1313\n",
      "0o1313\n"
     ]
    }
   ],
   "source": [
    "def decimal2Octal(number):\n",
    "    dividend = number\n",
    "    octalies = []\n",
    "    octal = \"\"\n",
    "    while (dividend > 0):\n",
    "        quotient = int(dividend / 8)\n",
    "        remainder = int(dividend % 8)\n",
    "        dividend = quotient\n",
    "        octalies.append(remainder)\n",
    "\n",
    "    for numbers in octalies[::-1]:\n",
    "        octal = octal+str(numbers)\n",
    "\n",
    "    return octal\n",
    "\n",
    "print (decimal2Octal(715))\n",
    "print (oct(715))"
   ]
  },
  {
   "cell_type": "markdown",
   "metadata": {},
   "source": [
    "<h3> Decimal to Hexadecimal </h3>"
   ]
  },
  {
   "cell_type": "code",
   "execution_count": 37,
   "metadata": {},
   "outputs": [
    {
     "name": "stdout",
     "output_type": "stream",
     "text": [
      "2CB\n",
      "0x2cb\n"
     ]
    }
   ],
   "source": [
    "def decimal2Hex(number):\n",
    "    dividend = number\n",
    "    hexies = []\n",
    "    nhex = \"\"\n",
    "    while (dividend > 0):\n",
    "        quotient = int(dividend / 16)\n",
    "        remainder = int(dividend % 16)\n",
    "        dividend = quotient\n",
    "        if remainder > 9:\n",
    "            if remainder == 10:\n",
    "                hexies.append('A')\n",
    "            elif remainder == 11:\n",
    "                hexies.append('B')\n",
    "            elif remainder == 12:\n",
    "                hexies.append('C')\n",
    "            elif remainder == 13:\n",
    "                hexies.append('D')\n",
    "            elif remainder == 14:\n",
    "                hexies.append('E')\n",
    "            elif remainder == 15:\n",
    "                hexies.append('F')\n",
    "        else:\n",
    "            hexies.append(remainder)\n",
    "\n",
    "    for numbers in hexies[::-1]:\n",
    "        nhex = nhex+str(numbers)\n",
    "\n",
    "    return nhex\n",
    "\n",
    "print (decimal2Hex(715))\n",
    "print (hex(715))"
   ]
  },
  {
   "cell_type": "markdown",
   "metadata": {},
   "source": [
    "<h3> Octal to Binary"
   ]
  },
  {
   "cell_type": "code",
   "execution_count": 53,
   "metadata": {},
   "outputs": [
    {
     "name": "stdout",
     "output_type": "stream",
     "text": [
      "111001101\n",
      "0b111001101\n"
     ]
    }
   ],
   "source": [
    "def octal2Binary(number):\n",
    "    number = str(number)\n",
    "\n",
    "    binary = \"\"\n",
    "    for letter in number:\n",
    "        binarie = decimal2Binary(int(letter))\n",
    "        while len(binarie) < 3:\n",
    "            binarie = '0' + str(binarie)\n",
    "        binary = binary + str(binarie)\n",
    "    return binary\n",
    "\n",
    "print (octal2Binary(715))\n",
    "print (bin(0o715))"
   ]
  },
  {
   "cell_type": "markdown",
   "metadata": {},
   "source": [
    "<h3> Binary to Hexdecimal"
   ]
  },
  {
   "cell_type": "code",
   "execution_count": 87,
   "metadata": {},
   "outputs": [
    {
     "name": "stdout",
     "output_type": "stream",
     "text": [
      "E95\n",
      "0xe95\n"
     ]
    }
   ],
   "source": [
    "def binary2Hex(number):\n",
    "    number = str(number)\n",
    "    nhex = \"\"\n",
    "    while len(number)%4 != 0:\n",
    "        number = '0'+ number\n",
    "    \n",
    "    while len(number) != 0:\n",
    "        aux = number[:4]\n",
    "        hexie = binary2Decimal(int(aux))\n",
    "        if hexie > 9:\n",
    "            if hexie == 10:\n",
    "                nhex += 'A'\n",
    "            elif hexie == 11:\n",
    "                nhex += 'B'\n",
    "            elif hexie == 12:\n",
    "                nhex += 'C'\n",
    "            elif hexie == 13:\n",
    "                nhex += 'D'\n",
    "            elif hexie == 14:\n",
    "                nhex += 'E'\n",
    "            elif hexie == 15:\n",
    "                nhex += 'F'\n",
    "        else:\n",
    "            nhex = nhex + str(hexie)\n",
    "        number = number[4:]\n",
    "    \n",
    "    return nhex\n",
    "\n",
    "print (binary2Hex(111010010101))\n",
    "print (hex(0b111010010101))"
   ]
  },
  {
   "cell_type": "markdown",
   "metadata": {},
   "source": [
    "<h3> Octal to Hexadecimal"
   ]
  },
  {
   "cell_type": "code",
   "execution_count": 94,
   "metadata": {},
   "outputs": [
    {
     "name": "stdout",
     "output_type": "stream",
     "text": [
      "E95\n"
     ]
    }
   ],
   "source": [
    "def Octal2Hex(number):\n",
    "    return binary2Hex(octal2Binary(number))\n",
    "\n",
    "print (Octal2Hex(7225))\n"
   ]
  },
  {
   "cell_type": "markdown",
   "metadata": {},
   "source": [
    "<h3> Hexadecimal to Binary"
   ]
  },
  {
   "cell_type": "code",
   "execution_count": 99,
   "metadata": {},
   "outputs": [
    {
     "name": "stdout",
     "output_type": "stream",
     "text": [
      "111010010101\n"
     ]
    }
   ],
   "source": [
    "def hex2Binary(number):\n",
    "    number = str(number)\n",
    "\n",
    "    binary = \"\"\n",
    "    for binarie in number:\n",
    "        if binarie.isnumeric() == False:\n",
    "            if binarie == 'A':\n",
    "                binary += '1010'\n",
    "            elif binarie == 'B':\n",
    "                binary += '1011'\n",
    "            elif binarie == 'C':\n",
    "                binary += '1100'\n",
    "            elif binarie == 'D':\n",
    "                binary += '1101'\n",
    "            elif binarie == 'E':\n",
    "                binary += '1110'\n",
    "            elif binarie == 'F':\n",
    "                binary += '1111'\n",
    "        else:\n",
    "            binarie = decimal2Binary(int(binarie))\n",
    "            while len(binarie) < 4:\n",
    "                binarie = '0' + str(binarie)\n",
    "            binary += binarie\n",
    "    return binary\n",
    "\n",
    "print (hex2Binary('E95'))"
   ]
  },
  {
   "cell_type": "markdown",
   "metadata": {},
   "source": [
    "<h3> Binary to Octal"
   ]
  },
  {
   "cell_type": "code",
   "execution_count": 106,
   "metadata": {},
   "outputs": [
    {
     "name": "stdout",
     "output_type": "stream",
     "text": [
      "7225\n"
     ]
    }
   ],
   "source": [
    "def binary2Octal(number):\n",
    "    number = str(number)\n",
    "    octal = \"\"\n",
    "    while len(number)%3 != 0:\n",
    "        number = '0'+ number\n",
    "    \n",
    "    while len(number) != 0:\n",
    "        aux = number[:3]\n",
    "        octie = binary2Decimal(int(aux))\n",
    "        number = number[3:]\n",
    "        octal += str(octie)\n",
    "    \n",
    "    return octal\n",
    "\n",
    "print (binary2Octal(111010010101))"
   ]
  },
  {
   "cell_type": "markdown",
   "metadata": {},
   "source": [
    "<h3> Octal to Decimal"
   ]
  },
  {
   "cell_type": "code",
   "execution_count": 104,
   "metadata": {},
   "outputs": [
    {
     "name": "stdout",
     "output_type": "stream",
     "text": [
      "715\n"
     ]
    }
   ],
   "source": [
    "def Octal2Decimal(number):\n",
    "    return binary2Decimal(octal2Binary(number))\n",
    "\n",
    "print (Octal2Decimal(1313))\n"
   ]
  },
  {
   "cell_type": "markdown",
   "metadata": {},
   "source": [
    "<h3> Hexadecimal to Decimal"
   ]
  },
  {
   "cell_type": "code",
   "execution_count": 105,
   "metadata": {},
   "outputs": [
    {
     "name": "stdout",
     "output_type": "stream",
     "text": [
      "715\n"
     ]
    }
   ],
   "source": [
    "def hex2Decimal(number):\n",
    "    return binary2Decimal(hex2Binary(number))\n",
    "\n",
    "print (hex2Decimal('2CB'))\n"
   ]
  },
  {
   "cell_type": "markdown",
   "metadata": {},
   "source": [
    "<h3> Hexadecimal to Octal"
   ]
  },
  {
   "cell_type": "code",
   "execution_count": 109,
   "metadata": {},
   "outputs": [
    {
     "name": "stdout",
     "output_type": "stream",
     "text": [
      "7225\n"
     ]
    }
   ],
   "source": [
    "def hex2Octal(number):\n",
    "    return str(binary2Octal(hex2Binary(number)))\n",
    "\n",
    "print (hex2Octal('E95'))\n"
   ]
  }
 ],
 "metadata": {
  "interpreter": {
   "hash": "83f6ca33a8128be0616b4be13167c52aad8f3d5c08e00778b05284de883ecd79"
  },
  "kernelspec": {
   "display_name": "Python 3.10.2 ('Computer-Vision')",
   "language": "python",
   "name": "python3"
  },
  "language_info": {
   "codemirror_mode": {
    "name": "ipython",
    "version": 3
   },
   "file_extension": ".py",
   "mimetype": "text/x-python",
   "name": "python",
   "nbconvert_exporter": "python",
   "pygments_lexer": "ipython3",
   "version": "3.10.2"
  },
  "orig_nbformat": 4
 },
 "nbformat": 4,
 "nbformat_minor": 2
}
